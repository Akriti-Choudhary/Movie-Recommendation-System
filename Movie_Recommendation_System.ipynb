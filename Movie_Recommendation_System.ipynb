{
  "nbformat": 4,
  "nbformat_minor": 0,
  "metadata": {
    "colab": {
      "provenance": [],
      "toc_visible": true,
      "authorship_tag": "ABX9TyNWWuFC97NJK5AG8XkrTDrM"
    },
    "kernelspec": {
      "name": "python3",
      "display_name": "Python 3"
    },
    "language_info": {
      "name": "python"
    }
  },
  "cells": [
    {
      "cell_type": "markdown",
      "source": [
        "# Importing Libraries"
      ],
      "metadata": {
        "id": "ivHHfbVLzNCM"
      }
    },
    {
      "cell_type": "code",
      "source": [
        "import numpy as nu\n",
        "import pandas as pd\n",
        "import difflib\n",
        "from sklearn.feature_extraction.text import TfidfVectorizer\n",
        "from sklearn.metrics.pairwise import cosine_similarity"
      ],
      "metadata": {
        "id": "Wma3Gwd1zR03"
      },
      "execution_count": 37,
      "outputs": []
    },
    {
      "cell_type": "markdown",
      "source": [
        "Data Collection and Preprocessing"
      ],
      "metadata": {
        "id": "toiLUJRVz0HP"
      }
    },
    {
      "cell_type": "code",
      "source": [
        "#loading the data from a csv file to pandas dataframe\n",
        "movies_data = pd.read_csv('/content/movies.csv')"
      ],
      "metadata": {
        "id": "WdMzQ6z4zyCj"
      },
      "execution_count": 38,
      "outputs": []
    },
    {
      "cell_type": "code",
      "source": [
        "#movies_data.head()"
      ],
      "metadata": {
        "id": "nTemjc8V0Cjq"
      },
      "execution_count": 39,
      "outputs": []
    },
    {
      "cell_type": "code",
      "source": [
        "movies_data.shape"
      ],
      "metadata": {
        "colab": {
          "base_uri": "https://localhost:8080/"
        },
        "id": "1eWWZ0XW0XjK",
        "outputId": "32e6cb41-6c74-4c99-f917-1b2ed926458f"
      },
      "execution_count": 40,
      "outputs": [
        {
          "output_type": "execute_result",
          "data": {
            "text/plain": [
              "(4803, 24)"
            ]
          },
          "metadata": {},
          "execution_count": 40
        }
      ]
    },
    {
      "cell_type": "code",
      "source": [
        "# selecting the relevant features for recommendation\n",
        "\n",
        "selected_features = ['genres','keywords','tagline','cast','director']\n",
        "print(selected_features)"
      ],
      "metadata": {
        "colab": {
          "base_uri": "https://localhost:8080/"
        },
        "id": "qlUkDUjn0d6x",
        "outputId": "c92020e1-bed0-4ce3-895d-df724e1996f4"
      },
      "execution_count": 41,
      "outputs": [
        {
          "output_type": "stream",
          "name": "stdout",
          "text": [
            "['genres', 'keywords', 'tagline', 'cast', 'director']\n"
          ]
        }
      ]
    },
    {
      "cell_type": "code",
      "source": [
        "# replacing the null valuess with null string\n",
        "\n",
        "for feature in selected_features:\n",
        "  movies_data[feature] = movies_data[feature].fillna('')"
      ],
      "metadata": {
        "id": "5orjPpqw03h4"
      },
      "execution_count": 42,
      "outputs": []
    },
    {
      "cell_type": "code",
      "source": [
        "# combining all the 6 selected features\n",
        "\n",
        "combined_features = movies_data['genres']+' '+movies_data['keywords']+' '+movies_data['tagline']+' '+movies_data['cast']+' '+movies_data['director']"
      ],
      "metadata": {
        "id": "5prF7mn_08rn"
      },
      "execution_count": 43,
      "outputs": []
    },
    {
      "cell_type": "code",
      "source": [
        "#print(combined_features)"
      ],
      "metadata": {
        "id": "BohveaiY1Ha8"
      },
      "execution_count": 44,
      "outputs": []
    },
    {
      "cell_type": "code",
      "source": [
        "# converting the text data to feature vectors\n",
        "\n",
        "vectorizer = TfidfVectorizer()"
      ],
      "metadata": {
        "id": "TPMzOFrA1hDF"
      },
      "execution_count": 45,
      "outputs": []
    },
    {
      "cell_type": "code",
      "source": [
        "feature_vectors = vectorizer.fit_transform(combined_features)"
      ],
      "metadata": {
        "id": "8VEATuzx1k0I"
      },
      "execution_count": 46,
      "outputs": []
    },
    {
      "cell_type": "code",
      "source": [
        "#print(feature_vectors)"
      ],
      "metadata": {
        "id": "Gy7QiOQg16DE"
      },
      "execution_count": 47,
      "outputs": []
    },
    {
      "cell_type": "markdown",
      "source": [
        "Cosine Similarity"
      ],
      "metadata": {
        "id": "6qAQpbne2chs"
      }
    },
    {
      "cell_type": "code",
      "source": [
        "# getting the similarity scores using cosine similarity\n",
        "\n",
        "similarity = cosine_similarity(feature_vectors)"
      ],
      "metadata": {
        "id": "9tQE5Qmu2Ymk"
      },
      "execution_count": 48,
      "outputs": []
    },
    {
      "cell_type": "code",
      "source": [
        "#print(similarity)"
      ],
      "metadata": {
        "id": "8uOmdtKG2ftH"
      },
      "execution_count": 49,
      "outputs": []
    },
    {
      "cell_type": "markdown",
      "source": [
        "Getting the movies name as input"
      ],
      "metadata": {
        "id": "5x8VUvym2l3R"
      }
    },
    {
      "cell_type": "code",
      "source": [
        "# getting the movie name from the user\n",
        "\n",
        "movie_name = input(' Enter your favourite movie name : ')"
      ],
      "metadata": {
        "colab": {
          "base_uri": "https://localhost:8080/"
        },
        "id": "UWEAzOgj2hzT",
        "outputId": "ba61fddf-ac29-4bcf-a304-02f19d75a310"
      },
      "execution_count": 50,
      "outputs": [
        {
          "name": "stdout",
          "output_type": "stream",
          "text": [
            " Enter your favourite movie name : John Carter\n"
          ]
        }
      ]
    },
    {
      "cell_type": "code",
      "source": [
        "# creating a list with all the movie names given in the dataset\n",
        "\n",
        "list_of_all_titles = movies_data['title'].tolist()\n",
        "#print(list_of_all_titles)"
      ],
      "metadata": {
        "id": "keHtvfoS2t8c"
      },
      "execution_count": 51,
      "outputs": []
    },
    {
      "cell_type": "code",
      "source": [
        "# finding the close match for the movie name given by the user\n",
        "\n",
        "find_close_match = difflib.get_close_matches(movie_name, list_of_all_titles)\n",
        "print(find_close_match)"
      ],
      "metadata": {
        "colab": {
          "base_uri": "https://localhost:8080/"
        },
        "id": "6igFeE9m216i",
        "outputId": "698b4c37-bf47-401e-8432-dc11f89b6c39"
      },
      "execution_count": 52,
      "outputs": [
        {
          "output_type": "stream",
          "name": "stdout",
          "text": [
            "['John Carter', 'Coach Carter', 'Get Carter']\n"
          ]
        }
      ]
    },
    {
      "cell_type": "code",
      "source": [
        "close_match = find_close_match[0]\n",
        "print(close_match)"
      ],
      "metadata": {
        "colab": {
          "base_uri": "https://localhost:8080/"
        },
        "id": "E5BF89YC27YY",
        "outputId": "eaa8003d-183e-4628-c758-d97093b43cf6"
      },
      "execution_count": 53,
      "outputs": [
        {
          "output_type": "stream",
          "name": "stdout",
          "text": [
            "John Carter\n"
          ]
        }
      ]
    },
    {
      "cell_type": "code",
      "source": [
        "# finding the index of the movie with title\n",
        "\n",
        "index_of_the_movie = movies_data[movies_data.title == close_match]['index'].values[0]\n",
        "print(index_of_the_movie)"
      ],
      "metadata": {
        "colab": {
          "base_uri": "https://localhost:8080/"
        },
        "id": "pMUtW3ec3AR3",
        "outputId": "1386204c-b4e7-4f92-bd84-f7127d38e481"
      },
      "execution_count": 54,
      "outputs": [
        {
          "output_type": "stream",
          "name": "stdout",
          "text": [
            "4\n"
          ]
        }
      ]
    },
    {
      "cell_type": "code",
      "source": [
        "# getting a list of similar movies\n",
        "\n",
        "similarity_score = list(enumerate(similarity[index_of_the_movie]))\n",
        "#print(similarity_score)"
      ],
      "metadata": {
        "id": "csnA1-Ox3DVm"
      },
      "execution_count": 55,
      "outputs": []
    },
    {
      "cell_type": "code",
      "source": [
        "# sorting the movies based on their similarity score\n",
        "\n",
        "sorted_similar_movies = sorted(similarity_score, key = lambda x:x[1], reverse = True) \n",
        "#print(sorted_similar_movies)"
      ],
      "metadata": {
        "id": "EeS4XplD3LR-"
      },
      "execution_count": 56,
      "outputs": []
    },
    {
      "cell_type": "code",
      "source": [
        "# print the name of similar movies based on the index\n",
        "\n",
        "print('Movies suggested for you : \\n')\n",
        "\n",
        "i = 1\n",
        "\n",
        "for movie in sorted_similar_movies:\n",
        "  index = movie[0]\n",
        "  title_from_index = movies_data[movies_data.index==index]['title'].values[0]\n",
        "  if (i<=50):\n",
        "    print(i, '.',title_from_index)\n",
        "    i+=1"
      ],
      "metadata": {
        "colab": {
          "base_uri": "https://localhost:8080/"
        },
        "id": "muCUDj233QJT",
        "outputId": "d8b37e7a-92ba-4067-a9fe-fb6a5842888e"
      },
      "execution_count": 57,
      "outputs": [
        {
          "output_type": "stream",
          "name": "stdout",
          "text": [
            "Movies suggested for you : \n",
            "\n",
            "1 . John Carter\n",
            "2 . Heaven is for Real\n",
            "3 . Alien\n",
            "4 . The Specials\n",
            "5 . The Helix... Loaded\n",
            "6 . Finding Nemo\n",
            "7 . Transformers\n",
            "8 . Mission to Mars\n",
            "9 . The Astronaut's Wife\n",
            "10 . American Psycho\n",
            "11 . Max\n",
            "12 . The English Patient\n",
            "13 . The Last Temptation of Christ\n",
            "14 . Enter Nowhere\n",
            "15 . The Martian\n",
            "16 . Notes on a Scandal\n",
            "17 . Sideways\n",
            "18 . Spider-Man 3\n",
            "19 . Daddy's Home\n",
            "20 . We Bought a Zoo\n",
            "21 . George of the Jungle\n",
            "22 . Treasure Planet\n",
            "23 . Don McKay\n",
            "24 . Auto Focus\n",
            "25 . Savages\n",
            "26 . The Covenant\n",
            "27 . X-Men Origins: Wolverine\n",
            "28 . Daybreakers\n",
            "29 . Gravity\n",
            "30 . Lone Survivor\n",
            "31 . Imagine That\n",
            "32 . Battleship\n",
            "33 . Paper Towns\n",
            "34 . Killing Them Softly\n",
            "35 . Star Trek IV: The Voyage Home\n",
            "36 . Shrek 2\n",
            "37 . Avatar\n",
            "38 . Beastmaster 2: Through the Portal of Time\n",
            "39 . The Host\n",
            "40 . Morvern Callar\n",
            "41 . Silent Running\n",
            "42 . Minority Report\n",
            "43 . Synecdoche, New York\n",
            "44 . Pandaemonium\n",
            "45 . Black Knight\n",
            "46 . All About Steve\n",
            "47 . The Last Days on Mars\n",
            "48 . eXistenZ\n",
            "49 . Flight of the Intruder\n",
            "50 . Mortal Kombat: Annihilation\n"
          ]
        }
      ]
    },
    {
      "cell_type": "code",
      "source": [],
      "metadata": {
        "id": "P98FofxQ3XQo"
      },
      "execution_count": 57,
      "outputs": []
    }
  ]
}